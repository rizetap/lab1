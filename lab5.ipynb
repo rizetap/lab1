{
 "cells": [
  {
   "cell_type": "code",
   "execution_count": 2,
   "id": "10a071d7",
   "metadata": {},
   "outputs": [
    {
     "name": "stdout",
     "output_type": "stream",
     "text": [
      "['ab', 'a']\n"
     ]
    }
   ],
   "source": [
    "#1Write a Python program that matches a string that has an 'a' followed by zero or more 'b''s.\n",
    "import re\n",
    "\n",
    "txt = \"aboba\"\n",
    "\n",
    "res = re.findall('ab*', txt)\n",
    "print(res)"
   ]
  },
  {
   "cell_type": "code",
   "execution_count": 3,
   "id": "083ad98c",
   "metadata": {},
   "outputs": [
    {
     "name": "stdout",
     "output_type": "stream",
     "text": [
      "['abb', 'abb']\n"
     ]
    }
   ],
   "source": [
    "#2Write a Python program that matches a string that has an 'a' followed by two to three 'b'.\n",
    "import re\n",
    "\n",
    "txt = \"abbababbchd\"\n",
    "\n",
    "res = re.findall(\"ab{2,3}\", txt)\n",
    "print(res)"
   ]
  },
  {
   "cell_type": "code",
   "execution_count": 4,
   "id": "d1f51f1d",
   "metadata": {},
   "outputs": [
    {
     "name": "stdout",
     "output_type": "stream",
     "text": [
      "['a__']\n"
     ]
    }
   ],
   "source": [
    "#3Write a Python program to find sequences of lowercase letters joined with a underscore.\n",
    "import re\n",
    "\n",
    "txt = \"a__afas1\"\n",
    "\n",
    "res = re.findall(\"[a-z].*_\", txt)\n",
    "print(res)"
   ]
  },
  {
   "cell_type": "code",
   "execution_count": 4,
   "id": "0fa270e1",
   "metadata": {},
   "outputs": [
    {
     "name": "stdout",
     "output_type": "stream",
     "text": [
      "['Kbtu']\n"
     ]
    }
   ],
   "source": [
    "#4Write a Python program to find the sequences of one upper case letter followed by lower case letters.\n",
    "import re\n",
    "\n",
    "txt = 'KBTU Kbtu arrRRA'\n",
    "\n",
    "res = re.findall(r'[A-Z]{1}[a-z]+', txt)\n",
    "print(res)"
   ]
  },
  {
   "cell_type": "code",
   "execution_count": 3,
   "id": "eab81c9a",
   "metadata": {},
   "outputs": [
    {
     "name": "stdout",
     "output_type": "stream",
     "text": [
      "['abob']\n"
     ]
    }
   ],
   "source": [
    "#5Write a Python program that matches a string that has an 'a' followed by anything, ending in 'b'.\n",
    "import re\n",
    "\n",
    "txt = 'aboba lol gersts'\n",
    "\n",
    "res = re.findall('a.*b', txt)\n",
    "print(res)"
   ]
  },
  {
   "cell_type": "code",
   "execution_count": 5,
   "id": "90175595",
   "metadata": {},
   "outputs": [
    {
     "name": "stdout",
     "output_type": "stream",
     "text": [
      "ashd::fjdi:dh:/:LOL::\n"
     ]
    }
   ],
   "source": [
    "#6Write a Python program to replace all occurrences of space, comma, or dot with a colon.\n",
    "import re\n",
    "\n",
    "txt = 'ashd, fjdi dh,/ LOL..'\n",
    "\n",
    "res = re.sub('\\s|\\.|\\,',':', txt)\n",
    "print(res)"
   ]
  },
  {
   "cell_type": "code",
   "execution_count": 11,
   "id": "010d53f7",
   "metadata": {},
   "outputs": [
    {
     "name": "stdout",
     "output_type": "stream",
     "text": [
      "SnakeCase\n"
     ]
    }
   ],
   "source": [
    "#7Write a python program to convert snake case string to camel case string.\n",
    "import re\n",
    "\n",
    "txt = 'snake_case'\n",
    "\n",
    "t1 = re.split(\"\\_\", txt)\n",
    "res = \"\"\n",
    "for x in t1:\n",
    "    res+=x.capitalize()\n",
    "print(res)"
   ]
  },
  {
   "cell_type": "code",
   "execution_count": 9,
   "id": "28dfe13f",
   "metadata": {},
   "outputs": [
    {
     "name": "stdout",
     "output_type": "stream",
     "text": [
      "['', 'nake', 'ase', '', '', '', '', 'eow']\n"
     ]
    }
   ],
   "source": [
    "#8Write a Python program to split a string at uppercase letters\n",
    "import re\n",
    "\n",
    "txt = 'SnakeCaseKBTUMeow'\n",
    "\n",
    "res = re.split(\"[A-Z]\", txt)\n",
    "print(res)"
   ]
  },
  {
   "cell_type": "code",
   "execution_count": 12,
   "id": "0d61834d",
   "metadata": {},
   "outputs": [
    {
     "name": "stdout",
     "output_type": "stream",
     "text": [
      "['Snake', 'Case', 'Meow']\n",
      "Snake Case Meow\n"
     ]
    }
   ],
   "source": [
    "#9Write a Python program to insert spaces between words starting with capital letters.\n",
    "import re\n",
    "\n",
    "txt = 'SnakeCaseMeow'\n",
    "\n",
    "res = re.findall(\"[A-Z][a-z]*\", txt)\n",
    "\n",
    "print(' '.join(res))"
   ]
  },
  {
   "cell_type": "code",
   "execution_count": 19,
   "id": "5c370f74",
   "metadata": {},
   "outputs": [
    {
     "name": "stdout",
     "output_type": "stream",
     "text": [
      "camel_case\n"
     ]
    }
   ],
   "source": [
    "#10Write a Python program to convert a given camel case string to snake case.\n",
    "import re\n",
    "\n",
    "txt = 'CamelCase'\n",
    " \n",
    "t1 = ' '.join(re.findall(\"[A-Z][a-z]*\", txt))\n",
    "res = re.sub('\\s','_',t1)\n",
    "\n",
    "print(res.lower())"
   ]
  }
 ],
 "metadata": {
  "kernelspec": {
   "display_name": "Python 3 (ipykernel)",
   "language": "python",
   "name": "python3"
  },
  "language_info": {
   "codemirror_mode": {
    "name": "ipython",
    "version": 3
   },
   "file_extension": ".py",
   "mimetype": "text/x-python",
   "name": "python",
   "nbconvert_exporter": "python",
   "pygments_lexer": "ipython3",
   "version": "3.9.13"
  }
 },
 "nbformat": 4,
 "nbformat_minor": 5
}
