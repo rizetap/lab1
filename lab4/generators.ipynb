{
 "cells": [
  {
   "cell_type": "code",
   "execution_count": 1,
   "id": "db55badc",
   "metadata": {},
   "outputs": [
    {
     "name": "stdout",
     "output_type": "stream",
     "text": [
      "3\n",
      "0\n",
      "1\n",
      "4\n"
     ]
    }
   ],
   "source": [
    "#Create a generator that generates the squares of numbers up to some number N.\n",
    "def gen(n):\n",
    "    for i in range(n):\n",
    "        yield i\n",
    "a = int(input())\n",
    "for i in gen(a):\n",
    "    print(i**2)"
   ]
  },
  {
   "cell_type": "code",
   "execution_count": 1,
   "id": "5d7732d8",
   "metadata": {},
   "outputs": [
    {
     "name": "stdout",
     "output_type": "stream",
     "text": [
      "7\n",
      "0, 2, 4, 6, "
     ]
    }
   ],
   "source": [
    "#Write a program using generator to print the even numbers between 0 and n in comma separated form where n is input from console\n",
    "def gen(n):\n",
    "    for i in range(n):\n",
    "        if (i%2)==0:\n",
    "            yield i\n",
    "a = int(input())\n",
    "for i in gen(a):\n",
    "    print(i, end=', ')"
   ]
  },
  {
   "cell_type": "code",
   "execution_count": 4,
   "id": "a3a3e483",
   "metadata": {},
   "outputs": [
    {
     "name": "stdout",
     "output_type": "stream",
     "text": [
      "13\n",
      "0\n",
      "12\n"
     ]
    }
   ],
   "source": [
    "#Define a function with a generator which can iterate the numbers, which are divisible by 3 and 4, between a given range 0 and n\n",
    "def gen(n):\n",
    "    for i in range(n):\n",
    "        if(i%3)==0 and (i%4)==0:\n",
    "            yield i\n",
    "a = int(input())\n",
    "for x in gen(a):\n",
    "    print(x)"
   ]
  },
  {
   "cell_type": "code",
   "execution_count": 7,
   "id": "31268c04",
   "metadata": {},
   "outputs": [
    {
     "name": "stdout",
     "output_type": "stream",
     "text": [
      "5\n",
      "6\n",
      "25\n"
     ]
    }
   ],
   "source": [
    "#Implement a generator called squares to yield the square of all numbers from (a) to (b). Test it with a \"for\" loop and print each of the yielded values\n",
    "def gen(a,b):\n",
    "    for i in range(a,b):\n",
    "        yield i\n",
    "x = int(input())\n",
    "y = int(input())\n",
    "for i in gen(x,y):\n",
    "    print(i**2)"
   ]
  },
  {
   "cell_type": "code",
   "execution_count": null,
   "id": "2593e987",
   "metadata": {},
   "outputs": [],
   "source": [
    "#Implement a generator that returns all numbers from (n) down to 0\n",
    "def gen(n):\n",
    "    while n >=0:\n",
    "        yield n\n",
    "        n -= 1\n",
    "for i in gen(10):\n",
    "    print(i)"
   ]
  }
 ],
 "metadata": {
  "kernelspec": {
   "display_name": "Python 3 (ipykernel)",
   "language": "python",
   "name": "python3"
  },
  "language_info": {
   "codemirror_mode": {
    "name": "ipython",
    "version": 3
   },
   "file_extension": ".py",
   "mimetype": "text/x-python",
   "name": "python",
   "nbconvert_exporter": "python",
   "pygments_lexer": "ipython3",
   "version": "3.9.13"
  }
 },
 "nbformat": 4,
 "nbformat_minor": 5
}
