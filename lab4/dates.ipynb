{
 "cells": [
  {
   "cell_type": "code",
   "execution_count": 18,
   "id": "a4b25b9a",
   "metadata": {},
   "outputs": [
    {
     "name": "stdout",
     "output_type": "stream",
     "text": [
      "2023-02-16\n"
     ]
    }
   ],
   "source": [
    "#Write a Python program to subtract five days from current date.\n",
    "import datetime\n",
    "today = datetime.datetime.now()\n",
    "\n",
    "print(datetime.date(today.year, today.month,today.day - 5))"
   ]
  },
  {
   "cell_type": "code",
   "execution_count": 17,
   "id": "70e8b57f",
   "metadata": {},
   "outputs": [
    {
     "name": "stdout",
     "output_type": "stream",
     "text": [
      "2023-02-20\n",
      "2023-02-21\n",
      "2023-02-22\n"
     ]
    }
   ],
   "source": [
    "#Write a Python program to print yesterday, today, tomorrow.\n",
    "import datetime\n",
    "today = datetime.datetime.now()\n",
    "\n",
    "print(datetime.date(today.year, today.month,today.day-1 ))\n",
    "print(datetime.date(today.year, today.month, today.day))\n",
    "print(datetime.date(today.year, today.month, today.day+1))"
   ]
  },
  {
   "cell_type": "code",
   "execution_count": 21,
   "id": "05fa95fc",
   "metadata": {},
   "outputs": [
    {
     "name": "stdout",
     "output_type": "stream",
     "text": [
      "160704\n"
     ]
    }
   ],
   "source": [
    "#Write a Python program to drop microseconds from datetime.\n",
    "import datetime\n",
    "today = datetime.datetime.now()\n",
    "print(today.microsecond)"
   ]
  },
  {
   "cell_type": "code",
   "execution_count": 24,
   "id": "c766097e",
   "metadata": {},
   "outputs": [
    {
     "name": "stdout",
     "output_type": "stream",
     "text": [
      "35\n"
     ]
    }
   ],
   "source": [
    "#Write a Python program to calculate two date difference in seconds.\n",
    "import datetime\n",
    "d1 = datetime.datetime.now()\n",
    "d2 = datetime.datetime(2022,12,29)\n",
    "diff = (d1.second) - (d2.second)\n",
    "print(abs(diff))"
   ]
  }
 ],
 "metadata": {
  "kernelspec": {
   "display_name": "Python 3 (ipykernel)",
   "language": "python",
   "name": "python3"
  },
  "language_info": {
   "codemirror_mode": {
    "name": "ipython",
    "version": 3
   },
   "file_extension": ".py",
   "mimetype": "text/x-python",
   "name": "python",
   "nbconvert_exporter": "python",
   "pygments_lexer": "ipython3",
   "version": "3.9.13"
  }
 },
 "nbformat": 4,
 "nbformat_minor": 5
}
