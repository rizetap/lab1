{
 "cells": [
  {
   "cell_type": "code",
   "execution_count": 4,
   "id": "3e8a8dcf",
   "metadata": {},
   "outputs": [
    {
     "name": "stdout",
     "output_type": "stream",
     "text": [
      "0.2617993877991494\n"
     ]
    }
   ],
   "source": [
    "#Write a Python program to convert degree to radian.\n",
    "import math\n",
    "def radian(n):\n",
    "    return n * (math.pi/180)\n",
    "print(radian(15))"
   ]
  },
  {
   "cell_type": "code",
   "execution_count": 5,
   "id": "d9f29bb2",
   "metadata": {},
   "outputs": [
    {
     "name": "stdout",
     "output_type": "stream",
     "text": [
      "27.5\n"
     ]
    }
   ],
   "source": [
    "#Write a Python program to calculate the area of a trapezoid.\n",
    "import math\n",
    "def area(h, a, b):\n",
    "    return ((a+b)*h)/2\n",
    "print(area(5,5,6))"
   ]
  },
  {
   "cell_type": "code",
   "execution_count": 11,
   "id": "6d66376e",
   "metadata": {},
   "outputs": [
    {
     "name": "stdout",
     "output_type": "stream",
     "text": [
      "625\n"
     ]
    }
   ],
   "source": [
    "#Write a Python program to calculate the area of regular polygon.\n",
    "from math import tan\n",
    "def area(n, a):\n",
    "    pr = n*a\n",
    "    rad = (180/n) *(math.pi/180)\n",
    "    aph = a/(2*tan(rad))\n",
    "    return (pr*aph)/2\n",
    "print(int(area(4, 25)))"
   ]
  },
  {
   "cell_type": "code",
   "execution_count": 12,
   "id": "7f0f7bbe",
   "metadata": {},
   "outputs": [
    {
     "name": "stdout",
     "output_type": "stream",
     "text": [
      "30\n"
     ]
    }
   ],
   "source": [
    "#Write a Python program to calculate the area of a parallelogram.\n",
    "import math\n",
    "def area(h, a):\n",
    "    return a*h\n",
    "print(area(5,6))"
   ]
  }
 ],
 "metadata": {
  "kernelspec": {
   "display_name": "Python 3",
   "language": "python",
   "name": "python3"
  },
  "language_info": {
   "codemirror_mode": {
    "name": "ipython",
    "version": 3
   },
   "file_extension": ".py",
   "mimetype": "text/x-python",
   "name": "python",
   "nbconvert_exporter": "python",
   "pygments_lexer": "ipython3",
   "version": "3.11.1"
  },
  "vscode": {
   "interpreter": {
    "hash": "9198111f8bc8707a20ca325d17f8b554ecf1e9bf81cfbc7adafdf68b0bee5ba1"
   }
  }
 },
 "nbformat": 4,
 "nbformat_minor": 5
}
