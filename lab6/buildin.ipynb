{
 "cells": [
  {
   "cell_type": "code",
   "execution_count": 4,
   "id": "ac755137",
   "metadata": {},
   "outputs": [
    {
     "name": "stdout",
     "output_type": "stream",
     "text": [
      "12\n"
     ]
    }
   ],
   "source": [
    "#Write a Python program with builtin function to multiply all the numbers in a list\n",
    "import math\n",
    "mylist = [1, 3, 4]\n",
    "print(math.prod(mylist))"
   ]
  },
  {
   "cell_type": "code",
   "execution_count": 1,
   "id": "8146ed84",
   "metadata": {},
   "outputs": [
    {
     "name": "stdout",
     "output_type": "stream",
     "text": [
      "5\n",
      "4\n"
     ]
    }
   ],
   "source": [
    "#Write a Python program with builtin function that accepts a string and calculate the number of upper case letters and lower case letters\n",
    "import re\n",
    "st = input()\n",
    "t = re.findall(\"[a-z]\", st)\n",
    "y = re.findall(\"[A-Z]\", st)\n",
    "print(len(t))\n",
    "print(len(y))    "
   ]
  },
  {
   "cell_type": "code",
   "execution_count": 11,
   "id": "e25bf850",
   "metadata": {},
   "outputs": [
    {
     "name": "stdout",
     "output_type": "stream",
     "text": [
      "abba\n",
      "Palindrome\n"
     ]
    }
   ],
   "source": [
    "#Write a Python program with builtin function that checks whether a passed string is palindrome or not.\n",
    "sr = input()\n",
    "sr2 = ''.join(reversed(sr))\n",
    "if sr == sr2:\n",
    "    print(\"Palindrome\")\n",
    "else:\n",
    "    print(\"No\")"
   ]
  },
  {
   "cell_type": "code",
   "execution_count": 12,
   "id": "9399758e",
   "metadata": {},
   "outputs": [
    {
     "name": "stdout",
     "output_type": "stream",
     "text": [
      "9\n",
      "10\n",
      "3.0\n"
     ]
    }
   ],
   "source": [
    "#Write a Python program that invoke square root function after specific milliseconds.\n",
    "import math\n",
    "import time\n",
    "n = int(input())\n",
    "t = float(input())\n",
    "time.sleep(t)\n",
    "print(math.sqrt(n))"
   ]
  },
  {
   "cell_type": "code",
   "execution_count": 15,
   "id": "2ccfd1df",
   "metadata": {},
   "outputs": [
    {
     "name": "stdout",
     "output_type": "stream",
     "text": [
      "True\n"
     ]
    }
   ],
   "source": [
    "#Write a Python program with builtin function that returns True if all elements of the tuple are true.\n",
    "mytuple = (1, \"ler\", 4352)\n",
    "print(all(mytuple))"
   ]
  }
 ],
 "metadata": {
  "kernelspec": {
   "display_name": "Python 3 (ipykernel)",
   "language": "python",
   "name": "python3"
  },
  "language_info": {
   "codemirror_mode": {
    "name": "ipython",
    "version": 3
   },
   "file_extension": ".py",
   "mimetype": "text/x-python",
   "name": "python",
   "nbconvert_exporter": "python",
   "pygments_lexer": "ipython3",
   "version": "3.9.13"
  }
 },
 "nbformat": 4,
 "nbformat_minor": 5
}
