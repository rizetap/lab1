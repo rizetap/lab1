{
 "cells": [
  {
   "cell_type": "code",
   "execution_count": 1,
   "id": "58d304d0",
   "metadata": {},
   "outputs": [
    {
     "name": "stdout",
     "output_type": "stream",
     "text": [
      "Only directories:\n",
      "['.vscode', 'codeye', 'LAB1', 'LAB2', 'LAB3', 'LAB4', 'LAB5', 'LAB6', 'LAB7', 'LAB8', 'LAB9', 'up3']\n",
      "Files and all directories:\n",
      "['.vscode', 'a.cpp', 'a.exe', 'aaa.cpp', 'codeye', 'ghbrjl.cpp', 'LAB1', 'LAB2', 'LAB3', 'LAB4', 'LAB5', 'LAB6', 'LAB7', 'LAB8', 'LAB9', 'up3', 'vb.cpp']\n",
      "Files:\n",
      "['a.cpp', 'a.exe', 'aaa.cpp', 'ghbrjl.cpp', 'vb.cpp']\n"
     ]
    }
   ],
   "source": [
    "#Write a Python program to list only directories, files and all directories, files in a specified path.\n",
    "import os\n",
    "pt = \"C:/KBTU/1Sem/PP1\"\n",
    "\n",
    "\n",
    "print(\"Only directories:\")\n",
    "ls1= []\n",
    "for name in os.listdir(pt):\n",
    "    if os.path.isdir(os.path.join(pt,name)):\n",
    "        ls1.append(name)\n",
    "print(ls1)\n",
    "\n",
    "\n",
    "print(\"Files and all directories:\")\n",
    "ls2=[]\n",
    "for name in os.listdir(pt):\n",
    "    ls2.append(name)\n",
    "print(ls2)\n",
    "\n",
    "\n",
    "print(\"Files:\")\n",
    "ls3= []\n",
    "for name in os.listdir(pt):\n",
    "    if not os.path.isdir(os.path.join(pt,name)):\n",
    "        ls3.append(name)\n",
    "print(ls3)"
   ]
  },
  {
   "cell_type": "code",
   "execution_count": 2,
   "id": "c5a76f17",
   "metadata": {},
   "outputs": [
    {
     "name": "stdout",
     "output_type": "stream",
     "text": [
      "Exist: True\n",
      "Readable: True\n",
      "Writable: True\n",
      "Executable: True\n"
     ]
    }
   ],
   "source": [
    "#Write a Python program to check for access to a specified path. Test the existence, readability, writability and executability of the specified path\n",
    "import os\n",
    "pt = \"C:/KBTU/1Sem/PP1\"\n",
    "\n",
    "print(\"Exist:\", os.access(pt, os.F_OK) )\n",
    "\n",
    "print(\"Readable:\", os.access(pt, os.R_OK))\n",
    "\n",
    "print(\"Writable:\", os.access(pt, os.W_OK))\n",
    "\n",
    "print(\"Executable:\", os.access(pt, os.X_OK))"
   ]
  },
  {
   "cell_type": "code",
   "execution_count": 3,
   "id": "628fd450",
   "metadata": {},
   "outputs": [
    {
     "name": "stdout",
     "output_type": "stream",
     "text": [
      "True\n",
      "Filename:\n",
      "PP1\n",
      "Directory portion:\n",
      "C:/KBTU/1Sem\n"
     ]
    }
   ],
   "source": [
    "#Write a Python program to test whether a given path exists or not. If the path exist find the filename and directory portion of the given path.\n",
    "import os\n",
    "pt = \"C:/KBTU/1Sem/PP1\"\n",
    "print(os.path.exists(pt))\n",
    "\n",
    "print(\"Filename:\")\n",
    "print(os.path.basename(pt))\n",
    "\n",
    "print(\"Directory portion:\")\n",
    "print(os.path.dirname(pt))"
   ]
  },
  {
   "cell_type": "code",
   "execution_count": 4,
   "id": "2c695e41",
   "metadata": {},
   "outputs": [
    {
     "name": "stdout",
     "output_type": "stream",
     "text": [
      "3\n"
     ]
    }
   ],
   "source": [
    "#Write a Python program to count the number of lines in a text file.\n",
    "f = open(\"mtext.txt\")\n",
    "print(len(f.readlines())) "
   ]
  },
  {
   "cell_type": "code",
   "execution_count": null,
   "id": "6f103d90",
   "metadata": {},
   "outputs": [],
   "source": [
    "#Write a Python program to write a list to a file.\n",
    "mylist = [\"-Hello! How are you?\\n\", \"-I am good, thanks for asking\"]\n",
    "f = open(\"listtofile.txt\", \"x\")\n",
    "f.write(''.join(mylist))\n",
    "f.close() \n",
    "\n",
    "f = open(\"listtofile.txt\", \"r\")\n",
    "print(f.read())"
   ]
  },
  {
   "cell_type": "code",
   "execution_count": null,
   "id": "ef0978e2",
   "metadata": {},
   "outputs": [],
   "source": [
    "#Write a Python program to generate 26 text files named A.txt, B.txt, and so on up to Z.txt\n",
    "for x in range(27):\n",
    "    for r in range(ord('A'), ord('Z')+1):\n",
    "        s = chr(r)\n",
    "        a = str(s)+\".txt\"\n",
    "        x = open( a, \"x\")"
   ]
  },
  {
   "cell_type": "code",
   "execution_count": 1,
   "id": "14933d74",
   "metadata": {},
   "outputs": [
    {
     "ename": "SyntaxError",
     "evalue": "(unicode error) 'unicodeescape' codec can't decode bytes in position 2-3: truncated \\UXXXXXXXX escape (2731319956.py, line 1)",
     "output_type": "error",
     "traceback": [
      "\u001b[1;36m  File \u001b[1;32m\"C:\\Users\\77770\\AppData\\Local\\Temp\\ipykernel_10664\\2731319956.py\"\u001b[1;36m, line \u001b[1;32m1\u001b[0m\n\u001b[1;33m    f = open(\"C:\\Users\\77770\\Desktop\\pp2\\del.txt\", \"r\")\u001b[0m\n\u001b[1;37m                                                 ^\u001b[0m\n\u001b[1;31mSyntaxError\u001b[0m\u001b[1;31m:\u001b[0m (unicode error) 'unicodeescape' codec can't decode bytes in position 2-3: truncated \\UXXXXXXXX escape\n"
     ]
    }
   ],
   "source": [
    "#Write a Python program to copy the contents of a file to another file\n",
    "f = open(\"mtext.txt\")\n",
    "t = open(\"copypaste.txt\", \"x\")\n",
    "sr = str(f.read())\n",
    "t.write(sr)\n",
    "t.close() \n",
    "\n",
    "t = open(\"copypaste.txt\", \"r\")\n",
    "print(t.read())"
   ]
  },
  {
   "cell_type": "code",
   "execution_count": null,
   "id": "edf5fde7",
   "metadata": {},
   "outputs": [],
   "source": [
    "#Write a Python program to delete file by specified path. Before deleting check for access and whether a given path exists or not.\n",
    "import os\n",
    "if os.path.exists(\"C:\\KBTU\\del.txt\"):\n",
    "  os.remove(\"C:\\KBTU\\del.txt\")\n",
    "else:\n",
    "  print(\"file does not exist\")"
   ]
  }
 ],
 "metadata": {
  "kernelspec": {
   "display_name": "Python 3 (ipykernel)",
   "language": "python",
   "name": "python3"
  },
  "language_info": {
   "codemirror_mode": {
    "name": "ipython",
    "version": 3
   },
   "file_extension": ".py",
   "mimetype": "text/x-python",
   "name": "python",
   "nbconvert_exporter": "python",
   "pygments_lexer": "ipython3",
   "version": "3.9.13"
  }
 },
 "nbformat": 4,
 "nbformat_minor": 5
}
