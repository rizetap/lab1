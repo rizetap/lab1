{
 "cells": [
  {
   "cell_type": "markdown",
   "id": "3c14a979",
   "metadata": {},
   "source": [
    "ex1"
   ]
  },
  {
   "cell_type": "code",
   "execution_count": 1,
   "id": "504d03b3",
   "metadata": {},
   "outputs": [
    {
     "name": "stdout",
     "output_type": "stream",
     "text": [
      "0.07054792396137345\n"
     ]
    }
   ],
   "source": [
    "def perevodchik(x):\n",
    "    areturn x/28.3495231\n",
    "print(perevodchik(input()))"
   ]
  },
  {
   "cell_type": "markdown",
   "id": "e2b1b8c2",
   "metadata": {},
   "source": [
    "ex2"
   ]
  },
  {
   "cell_type": "code",
   "execution_count": 2,
   "id": "4f7476d6",
   "metadata": {},
   "outputs": [
    {
     "name": "stdout",
     "output_type": "stream",
     "text": [
      "0.0\n"
     ]
    }
   ],
   "source": [
    "def perevodchik(f):\n",
    "    return  (5 / 9) * (f - 32)\n",
    "print(perevodchik(input()))"
   ]
  },
  {
   "cell_type": "markdown",
   "id": "bae213dc",
   "metadata": {},
   "source": [
    "ex3"
   ]
  },
  {
   "cell_type": "code",
   "execution_count": 49,
   "id": "25e7c76b",
   "metadata": {},
   "outputs": [
    {
     "name": "stdout",
     "output_type": "stream",
     "text": [
      "{'chickens': 23.0, 'rabbits': 12.0}\n"
     ]
    }
   ],
   "source": [
    "def solve(heads, legs):\n",
    "    chickens = 0\n",
    "    rabbits = 0\n",
    "    chickens = (4*heads - legs)/2\n",
    "    rabbits = heads - chickens\n",
    "    return {\"chickens\": chickens, \"rabbits\": rabbits}\n",
    "\n",
    "print(solve(35, 94))"
   ]
  },
  {
   "cell_type": "markdown",
   "id": "27eea6db",
   "metadata": {},
   "source": [
    "ex4"
   ]
  },
  {
   "cell_type": "code",
   "execution_count": null,
   "id": "28754f7e",
   "metadata": {},
   "outputs": [],
   "source": [
    "def check(num):\n",
    "    x = int(num)\n",
    "    if x>1:\n",
    "        for t in range(2, int(x/2)+1):\n",
    "            if(x%2)==0: \n",
    "                return False\n",
    "        return True\n",
    "    else: \n",
    "        return False       \n",
    "def prime(list):\n",
    "    res = []\n",
    "    for x in list:\n",
    "        if check(x):\n",
    "            res.append(x)\n",
    "    return res\n",
    "\n",
    "list = input().split(' ')\n",
    "print((prime(list)))"
   ]
  },
  {
   "cell_type": "markdown",
   "id": "46552be5",
   "metadata": {},
   "source": [
    "ex5"
   ]
  },
  {
   "cell_type": "code",
   "execution_count": null,
   "id": "226af129",
   "metadata": {},
   "outputs": [],
   "source": [
    "from itertools import permutations\n",
    "def string(meow):\n",
    "    res = []\n",
    "    p = permutations(meow)\n",
    "    for x in list(p):\n",
    "        res.append(x)\n",
    "    print(res)\n",
    "\n",
    "print(string(input()))  "
   ]
  },
  {
   "cell_type": "markdown",
   "id": "dc2df219",
   "metadata": {},
   "source": [
    "ex6"
   ]
  },
  {
   "cell_type": "code",
   "execution_count": 53,
   "id": "07835390",
   "metadata": {},
   "outputs": [
    {
     "name": "stdout",
     "output_type": "stream",
     "text": [
      "meow lol \n"
     ]
    }
   ],
   "source": [
    "def reverse(meow):\n",
    "    lisst = list(meow.split())\n",
    "    res = \"\"\n",
    "    for x in lisst[::-1]:\n",
    "        res += x+' '\n",
    "    return res\n",
    "print(reverse(\"lol meow\"))"
   ]
  },
  {
   "cell_type": "markdown",
   "id": "c4a58fdb",
   "metadata": {},
   "source": [
    "ex7"
   ]
  },
  {
   "cell_type": "code",
   "execution_count": 20,
   "id": "899b667b",
   "metadata": {},
   "outputs": [
    {
     "name": "stdout",
     "output_type": "stream",
     "text": [
      "False\n"
     ]
    }
   ],
   "source": [
    "def che(rry):\n",
    "    meh = len(rry)-1\n",
    "    for x in range(meh):\n",
    "        if rry[x]==3 and rry[x+1]==3:\n",
    "            return True\n",
    "    return False\n",
    "print(che([1,3,1,1,3]))\n"
   ]
  },
  {
   "cell_type": "markdown",
   "id": "d8784bcf",
   "metadata": {},
   "source": [
    "ex8"
   ]
  },
  {
   "cell_type": "code",
   "execution_count": 24,
   "id": "49a1a31a",
   "metadata": {},
   "outputs": [
    {
     "name": "stdout",
     "output_type": "stream",
     "text": [
      "False\n"
     ]
    }
   ],
   "source": [
    "def che(rry):\n",
    "    meh = len(rry)-1\n",
    "    for x in range(meh):\n",
    "        if rry[x]==0 and rry[x+1]==0 and rry[x+2]==7:\n",
    "            return True\n",
    "    return False\n",
    "print(che([1,0,2,4,0,5,7]))\n"
   ]
  },
  {
   "cell_type": "markdown",
   "id": "ecc65ba9",
   "metadata": {},
   "source": [
    "ex9"
   ]
  },
  {
   "cell_type": "code",
   "execution_count": 26,
   "id": "8bdd4b17",
   "metadata": {},
   "outputs": [
    {
     "name": "stdout",
     "output_type": "stream",
     "text": [
      "33.49333333333333\n"
     ]
    }
   ],
   "source": [
    "def volume(rad):\n",
    "    return (4/3)*rad**3*3.14\n",
    "print(volume(2))"
   ]
  },
  {
   "cell_type": "markdown",
   "id": "1ab4ef3e",
   "metadata": {},
   "source": [
    "ex10"
   ]
  },
  {
   "cell_type": "code",
   "execution_count": 29,
   "id": "3cb44281",
   "metadata": {},
   "outputs": [
    {
     "name": "stdout",
     "output_type": "stream",
     "text": [
      "[10, 20, 22, 2]\n"
     ]
    }
   ],
   "source": [
    "def unique(lisst):\n",
    "    res = []\n",
    "    for x in lisst:\n",
    "        if x in res:\n",
    "            continue\n",
    "        else:\n",
    "            res.append(x)\n",
    "    return res\n",
    "print(unique([10,20,10,22,2]))"
   ]
  },
  {
   "cell_type": "markdown",
   "id": "b855707b",
   "metadata": {},
   "source": [
    "ex11"
   ]
  },
  {
   "cell_type": "code",
   "execution_count": 33,
   "id": "7c923a96",
   "metadata": {},
   "outputs": [
    {
     "name": "stdout",
     "output_type": "stream",
     "text": [
      "False\n"
     ]
    }
   ],
   "source": [
    "def check(str):\n",
    "    if str==str[::-1]:\n",
    "        return True\n",
    "    else:\n",
    "        return False\n",
    "print(check(\"abbc\"))"
   ]
  },
  {
   "cell_type": "markdown",
   "id": "a3e97ba7",
   "metadata": {},
   "source": [
    "ex12"
   ]
  },
  {
   "cell_type": "code",
   "execution_count": 43,
   "id": "43e1f577",
   "metadata": {},
   "outputs": [
    {
     "name": "stdout",
     "output_type": "stream",
     "text": [
      "*\n",
      "**\n",
      "***\n",
      "None\n"
     ]
    }
   ],
   "source": [
    "def histo(lists):\n",
    "    for x in lists:\n",
    "        for i in range(x):\n",
    "            print(\"*\", end=\"\")\n",
    "        print()\n",
    "\n",
    "alue = [1,2,3]\n",
    "print(histo(alue))"
   ]
  },
  {
   "cell_type": "markdown",
   "id": "33a6d5b2",
   "metadata": {},
   "source": [
    "ex13"
   ]
  },
  {
   "cell_type": "code",
   "execution_count": 47,
   "id": "01c9a0a5",
   "metadata": {},
   "outputs": [
    {
     "name": "stdout",
     "output_type": "stream",
     "text": [
      "Hello! What is your name?\n",
      "peru\n",
      "Well, peru, I am thinking of a number between 1 and 20.\n",
      "Take a guess.\n",
      "3\n",
      "Good job, peru! You guessed my number in 1 guesses!\n"
     ]
    }
   ],
   "source": [
    "import random\n",
    "print(\"Hello! What is your name?\")\n",
    "name = input()\n",
    "guess = random.randint(1,20)\n",
    "cnt = 0\n",
    "print(f\"Well, {name}, I am thinking of a number between 1 and 20.\\nTake a guess.\")\n",
    "\n",
    "while(True):\n",
    "    number = int(input())\n",
    "    cnt+=1\n",
    "    if number < guess:\n",
    "        print(\"Your guess is too low.\\nTake a guess.\")\n",
    "    elif number > guess:\n",
    "        print(\"Your guess is too high.\\nTake a guess.\")\n",
    "    else:\n",
    "        print(f\"Good job, {name}! You guessed my number in {cnt} guesses!\")\n",
    "        break\n"
   ]
  }
 ],
 "metadata": {
  "kernelspec": {
   "display_name": "Python 3 (ipykernel)",
   "language": "python",
   "name": "python3"
  },
  "language_info": {
   "codemirror_mode": {
    "name": "ipython",
    "version": 3
   },
   "file_extension": ".py",
   "mimetype": "text/x-python",
   "name": "python",
   "nbconvert_exporter": "python",
   "pygments_lexer": "ipython3",
   "version": "3.9.13"
  }
 },
 "nbformat": 4,
 "nbformat_minor": 5
}
