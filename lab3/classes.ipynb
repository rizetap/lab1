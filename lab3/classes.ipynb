{
 "cells": [
  {
   "cell_type": "markdown",
   "id": "c5bb2499",
   "metadata": {},
   "source": [
    "ex1"
   ]
  },
  {
   "cell_type": "code",
   "execution_count": 4,
   "id": "41888023",
   "metadata": {},
   "outputs": [
    {
     "name": "stdout",
     "output_type": "stream",
     "text": [
      "lol\n",
      "LOL\n"
     ]
    }
   ],
   "source": [
    "class meow:\n",
    "    name = \"\"\n",
    "    def getstring(self):\n",
    "        meow.name = input()\n",
    "    def printstring(self):\n",
    "        return (meow.name).upper()\n",
    "\n",
    "p1 = meow()\n",
    "p1.getstring()\n",
    "print(p1.printstring())"
   ]
  },
  {
   "cell_type": "markdown",
   "id": "c665ec78",
   "metadata": {},
   "source": [
    "ex2"
   ]
  },
  {
   "cell_type": "code",
   "execution_count": 10,
   "id": "6b441e09",
   "metadata": {},
   "outputs": [
    {
     "name": "stdout",
     "output_type": "stream",
     "text": [
      "3\n",
      "0\n",
      "9\n"
     ]
    }
   ],
   "source": [
    "class shape:\n",
    "    def area():\n",
    "        return 0\n",
    "class square(shape):\n",
    "    def __init__(self, len):\n",
    "        self.len= len\n",
    "    def area(self):\n",
    "        return (self.len**2)\n",
    "a = int(input())\n",
    "print(shape.area())\n",
    "sq1 = square(a)\n",
    "print(sq1.area())"
   ]
  },
  {
   "cell_type": "markdown",
   "id": "e544810b",
   "metadata": {},
   "source": [
    "ex3"
   ]
  },
  {
   "cell_type": "code",
   "execution_count": 23,
   "id": "d22a9028",
   "metadata": {},
   "outputs": [
    {
     "name": "stdout",
     "output_type": "stream",
     "text": [
      "4\n",
      "5\n",
      "20\n"
     ]
    }
   ],
   "source": [
    "class shape:\n",
    "    def area():\n",
    "        return 0\n",
    "class recta(shape):\n",
    "    def __init__(self, leng, wit):\n",
    "        self.leng = leng\n",
    "        self.wit = wit\n",
    "    def area(self):\n",
    "            return self.leng*self.wit\n",
    "wit = int(input())\n",
    "leng = int(input())\n",
    "rct = recta(leng, wit)\n",
    "print(rct.area())"
   ]
  },
  {
   "cell_type": "markdown",
   "id": "9e0732ed",
   "metadata": {},
   "source": [
    "ex4"
   ]
  },
  {
   "cell_type": "code",
   "execution_count": 24,
   "id": "d8c52b72",
   "metadata": {},
   "outputs": [
    {
     "name": "stdout",
     "output_type": "stream",
     "text": [
      "3\n",
      "4\n",
      "[3, 4]\n",
      "[9, 10]\n",
      "13.45362404707371\n"
     ]
    }
   ],
   "source": [
    "import math\n",
    "class point:\n",
    "    def __init__(self, x, y):\n",
    "        self.x = x\n",
    "        self.y = y\n",
    "    def show(self):\n",
    "        return [self.x, self.y]\n",
    "    def move(self, delta):\n",
    "        self.x += delta\n",
    "        self.y += delta\n",
    "        return [self.x, self.y]\n",
    "    def dist(self, x2, y2):\n",
    "        return math.sqrt((self.x - x2)**2+(self.y - y2)**2)\n",
    " \n",
    "x = int(input())\n",
    "y = int(input())\n",
    "p1 = point(x, y)\n",
    "print(p1.show())\n",
    "print(p1.move(6))\n",
    "print(p1.dist(0, 0))"
   ]
  },
  {
   "cell_type": "markdown",
   "id": "b8f8f0ac",
   "metadata": {},
   "source": [
    "ex5"
   ]
  },
  {
   "cell_type": "code",
   "execution_count": 27,
   "id": "69e8377f",
   "metadata": {},
   "outputs": [
    {
     "name": "stdout",
     "output_type": "stream",
     "text": [
      "233\n",
      "228\n",
      "223\n"
     ]
    }
   ],
   "source": [
    "class account:\n",
    "    def __init__(self, owner, balance):\n",
    "        self.owner = owner\n",
    "        self.balance = balance\n",
    "\n",
    "    def deposit(self, deposit_):\n",
    "        self.balance+=deposit_\n",
    "    def withdraw(self, withdraw_):\n",
    "        if withdraw_<=self.balance:\n",
    "            self.balance -= withdraw_\n",
    "            return True\n",
    "        return False\n",
    "    def show(self):\n",
    "        return self.balance\n",
    "\n",
    "ac1 = account(\"Peri\", 199)\n",
    "ac1.deposit(34)\n",
    "print(ac1.show())\n",
    "ac1.withdraw(5)\n",
    "print(ac1.show())\n",
    "ac1.withdraw(5)\n",
    "print(ac1.show())"
   ]
  },
  {
   "cell_type": "markdown",
   "id": "bbdbff5f",
   "metadata": {},
   "source": [
    "ex6"
   ]
  },
  {
   "cell_type": "code",
   "execution_count": 28,
   "id": "1ea2faa1",
   "metadata": {},
   "outputs": [
    {
     "name": "stdout",
     "output_type": "stream",
     "text": [
      "[1, 3, 6]\n"
     ]
    }
   ],
   "source": [
    "def prime(number):\n",
    "    if number == 1:\n",
    "        return True\n",
    "    for x in range(2, int(number**.05)+1):\n",
    "        if num % x == 0:\n",
    "            return False\n",
    "    return True\n",
    "my_list = [1,3, 6]\n",
    "\n",
    "b = filter(lambda x: prime(x), my_list)\n",
    "print(list(b))"
   ]
  }
 ],
 "metadata": {
  "kernelspec": {
   "display_name": "Python 3 (ipykernel)",
   "language": "python",
   "name": "python3"
  },
  "language_info": {
   "codemirror_mode": {
    "name": "ipython",
    "version": 3
   },
   "file_extension": ".py",
   "mimetype": "text/x-python",
   "name": "python",
   "nbconvert_exporter": "python",
   "pygments_lexer": "ipython3",
   "version": "3.9.13"
  }
 },
 "nbformat": 4,
 "nbformat_minor": 5
}
